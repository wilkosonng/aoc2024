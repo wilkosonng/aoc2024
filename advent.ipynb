{
 "cells": [
  {
   "cell_type": "markdown",
   "metadata": {},
   "source": [
    "### Day 1"
   ]
  },
  {
   "cell_type": "code",
   "execution_count": 7,
   "metadata": {},
   "outputs": [
    {
     "data": {
      "text/plain": [
       "([63721, 83871, 55026, 21948, 11201, 96077, 41231, 71203, 53280, 31172],\n",
       " [98916, 23584, 62690, 69139, 33499, 62705, 87261, 13285, 86974, 11658])"
      ]
     },
     "execution_count": 7,
     "metadata": {},
     "output_type": "execute_result"
    }
   ],
   "source": [
    "# Cleans Input into list1, list2 - each an int list\n",
    "\n",
    "file = open(\"day1.input\", \"r\")\n",
    "input = file.read()\n",
    "\n",
    "file.close()\n",
    "\n",
    "nums = [*map(lambda x: int(x), input.split())]\n",
    "list1, list2 = nums[0::2], nums[1::2]\n",
    "list1[:10], list2[:10]"
   ]
  },
  {
   "cell_type": "code",
   "execution_count": 8,
   "metadata": {},
   "outputs": [
    {
     "data": {
      "text/plain": [
       "1341714"
      ]
     },
     "execution_count": 8,
     "metadata": {},
     "output_type": "execute_result"
    }
   ],
   "source": [
    "# Part 1\n",
    "\n",
    "ans = sum(map(lambda x, y: abs(x - y) , sorted(list1), sorted(list2)))\t# Sorts each list and sums the absolute differences between elements\n",
    "ans\t\t\t\t\t\t\t\t\t\t\t\t\t\t\t\t\t  \t"
   ]
  },
  {
   "cell_type": "code",
   "execution_count": 9,
   "metadata": {},
   "outputs": [
    {
     "data": {
      "text/plain": [
       "27384707"
      ]
     },
     "execution_count": 9,
     "metadata": {},
     "output_type": "execute_result"
    }
   ],
   "source": [
    "# Part 2\n",
    "\n",
    "hash = {}\n",
    "\n",
    "for num in list2:\n",
    "\thash[num] = hash.get(num, 0) + 1\t\t\t\t\t# For each number in list 2, counts each number\n",
    "\n",
    "ans = sum(map(lambda x: x * hash.get(x, 0), list1))\t\t# Iterate through list 1 and sum the products between the elements and counts\n",
    "ans"
   ]
  },
  {
   "cell_type": "markdown",
   "metadata": {},
   "source": [
    "### Day 2"
   ]
  },
  {
   "cell_type": "code",
   "execution_count": 10,
   "metadata": {},
   "outputs": [
    {
     "data": {
      "text/plain": [
       "[[8, 11, 14, 16, 15],\n",
       " [23, 25, 27, 30, 30],\n",
       " [19, 20, 21, 22, 23, 25, 26, 30],\n",
       " [16, 19, 22, 25, 26, 28, 35],\n",
       " [59, 61, 59, 61, 63],\n",
       " [23, 25, 22, 23, 22],\n",
       " [5, 8, 9, 12, 11, 14, 15, 15],\n",
       " [87, 90, 91, 92, 89, 91, 95],\n",
       " [36, 38, 40, 43, 40, 41, 47],\n",
       " [37, 40, 40, 42, 45, 48, 49, 52]]"
      ]
     },
     "execution_count": 10,
     "metadata": {},
     "output_type": "execute_result"
    }
   ],
   "source": [
    "# Cleans Input into nums, an array of int lists\n",
    "\n",
    "file = open(\"day2.input\", \"r\")\n",
    "\n",
    "nums = [[*map(lambda x: int(x), line.split())] for line in file]\n",
    "\n",
    "file.close()\n",
    "\n",
    "nums[:10]"
   ]
  },
  {
   "cell_type": "code",
   "execution_count": 11,
   "metadata": {},
   "outputs": [
    {
     "data": {
      "text/plain": [
       "472"
      ]
     },
     "execution_count": 11,
     "metadata": {},
     "output_type": "execute_result"
    }
   ],
   "source": [
    "# Part 1\n",
    "\n",
    "def safe(lst):                                                      # Safe function dtermines if a given list is safe\n",
    "    diffs = [lst[i + 1] - lst[i] for i in range(len(lst) - 1)]      # Creates an intermediate difference list between consecutive elements\n",
    "    return all(map(lambda x: 0 < x < 4, diffs))                     # A list is safe iff all differences are between 1 and 3 inclusive\n",
    "\n",
    "ans = sum([safe(line) or safe(line[::-1]) for line in nums])        # Sums the number of safe lists (uses both the list or the reverse to allow for strictly inc and dec)\n",
    "ans"
   ]
  },
  {
   "cell_type": "code",
   "execution_count": 12,
   "metadata": {},
   "outputs": [
    {
     "data": {
      "text/plain": [
       "520"
      ]
     },
     "execution_count": 12,
     "metadata": {},
     "output_type": "execute_result"
    }
   ],
   "source": [
    "# Part 2\n",
    "\n",
    "def safe_h(lst):                                                                # An ammended safety checker that allows for one mistake\n",
    "    for i in range(len(lst) - 1):                                               \n",
    "        if not 0 < lst[i + 1] - lst[i] < 4:                                     # On the first mistake,\n",
    "            return safe(lst[:i] + lst[i+1:]) or safe(lst[:i+1] + lst[i+2:])     # Check either of the offending elements and returns if removing either one makes the list safe\n",
    "    return True\n",
    "\n",
    "ans = sum([safe_h(line) or safe_h(line[::-1]) for line in nums])                # Once again, return the number of lists in which removing 0 or 1 element are safe.\n",
    "ans"
   ]
  },
  {
   "cell_type": "markdown",
   "metadata": {},
   "source": [
    "### Day 3"
   ]
  },
  {
   "cell_type": "code",
   "execution_count": 13,
   "metadata": {},
   "outputs": [
    {
     "data": {
      "text/plain": [
       "'[why()what()]:!*<)~mul(929,350)({)when()@mul(878,389)}$!? mul(786,950)~when();[(#mul(808,160)mul(659'"
      ]
     },
     "execution_count": 13,
     "metadata": {},
     "output_type": "execute_result"
    }
   ],
   "source": [
    "# Gets input as a string\n",
    "\n",
    "file = open(\"day3.input\", \"r\")\n",
    "input = file.read()\n",
    "\n",
    "file.close()\n",
    "input[:100]"
   ]
  },
  {
   "cell_type": "code",
   "execution_count": 14,
   "metadata": {},
   "outputs": [
    {
     "data": {
      "text/plain": [
       "191183308"
      ]
     },
     "execution_count": 14,
     "metadata": {},
     "output_type": "execute_result"
    }
   ],
   "source": [
    "# Part 1\n",
    "\n",
    "import re\n",
    "\n",
    "matches = re.finditer(r\"mul\\((\\d{1,3}),(\\d{1,3})\\)\", input)\t\t\t# Finds all of the mul() clauses and captures the digits\n",
    "ans = sum([int(m.group(1)) * int(m.group(2)) for m in matches])\t\t# Sums the products of the digits for each match\n",
    "ans"
   ]
  },
  {
   "cell_type": "code",
   "execution_count": 15,
   "metadata": {},
   "outputs": [
    {
     "data": {
      "text/plain": [
       "92082041"
      ]
     },
     "execution_count": 15,
     "metadata": {},
     "output_type": "execute_result"
    }
   ],
   "source": [
    "# Part 2\n",
    "\n",
    "ans, do = 0, True\n",
    "matches = re.finditer(r\"mul\\((\\d{1,3}),(\\d{1,3})\\)|do\\(\\)|don't\\(\\)\", input)\t# Finds all the mul(), do(), and don't() clauses\n",
    "for m in matches:\n",
    "\tmatch m.group(0):\t\t\t\t\t\t\t\t\t\t\t\t\t\t\t# Matches the clause with...\n",
    "\t\tcase 'do()':\t\t\t\t\t\t\t\t\t\t\t\t\t\t\t# DO: set flag to true\n",
    "\t\t\tdo = True\n",
    "\t\tcase \"don't()\":\t\t\t\t\t\t\t\t\t\t\t\t\t\t\t# DON'T: set flag to false\n",
    "\t\t\tdo = False\n",
    "\t\tcase _:\t\t\t\t\t\t\t\t\t\t\t\t\t\t\t\t\t# default (mult): if the flag is true, add the product to accumulator\n",
    "\t\t\tans += int(m.group(1)) * int(m.group(2)) if do else 0\n",
    "\n",
    "ans"
   ]
  },
  {
   "cell_type": "markdown",
   "metadata": {},
   "source": [
    "### Day 4"
   ]
  },
  {
   "cell_type": "code",
   "execution_count": 16,
   "metadata": {},
   "outputs": [
    {
     "data": {
      "text/plain": [
       "['XSXMAAXXSSMMMXMXSXMSXMXSAMXSXMASMMSSMMSASXSAAXAAMXMMAMAMXMXSMXSAMXAXSAMXSSSXMASAMXAAMXSXMASAMXXMAXXSAXAMXMMSAASMXMXMASMMAMXXXSAMMSMMSXMASXAA',\n",
       " 'XXAMMSMMXMAMAASXSAMAMSAMASASMSASAAAAAXSASAMMMXSMXSAMSSMMASMSAAXXSXAMSAMXMMXMSAMXXXMSMAMMAMXMSSMMMSSMMSASMSXAMMMAASMASAMXSSXSASMSXMAMSASXMMSS']"
      ]
     },
     "execution_count": 16,
     "metadata": {},
     "output_type": "execute_result"
    }
   ],
   "source": [
    "# Gets input as an n length array of length n strings\n",
    "\n",
    "file = open(\"day4.input\", \"r\")\n",
    "input = file.read().split()\n",
    "\n",
    "file.close()\n",
    "input[:2]"
   ]
  },
  {
   "cell_type": "code",
   "execution_count": 17,
   "metadata": {},
   "outputs": [
    {
     "data": {
      "text/plain": [
       "2575"
      ]
     },
     "execution_count": 17,
     "metadata": {},
     "output_type": "execute_result"
    }
   ],
   "source": [
    "# Part 1\n",
    "\n",
    "ans = 0\n",
    "d = [(x, y) for x in (-1, 0, 1) for y in (-1, 0, 1)]                                                                # list of all directional pairs (1, 1), (0, -1) etc. in 2D\n",
    "find = \"XMAS\"\n",
    "\n",
    "def safe_index(M, default, i, j):                                                                                   # function that returns default if out of bounds; else, indexes properly\n",
    "    x, y = len(M) - 1, len(M[0]) - 1\n",
    "    return M[i][j] if (0 <= i <= x) and (0 <= j <= y) else default\n",
    "\n",
    "for i in range(len(input)):                                                                                         \n",
    "    for j in range(len(input[0])):\n",
    "        if input[i][j] == \"X\":                                                                                      # For each coordinate beginning with X...\n",
    "            for (x, y) in d:                                                                                        # Look for \"XMAS\" in each direction\n",
    "                ans += \"\".join([safe_index(input, \"\", i + x * k, j + y * k) for k in range(len(find))]) == find     # If XMAS is found, add one to the accumulator\n",
    "\n",
    "ans"
   ]
  },
  {
   "cell_type": "code",
   "execution_count": 18,
   "metadata": {},
   "outputs": [
    {
     "data": {
      "text/plain": [
       "2041"
      ]
     },
     "execution_count": 18,
     "metadata": {},
     "output_type": "execute_result"
    }
   ],
   "source": [
    "# Part 2\n",
    "\n",
    "ans = 0\n",
    "\n",
    "for i in range(1, len(input) - 1):\n",
    "    for j in range(1, len(input[0]) - 1):\n",
    "        if input[i][j] == \"A\":                                                      # For each coordinate with A...\n",
    "            ans += (                                                                # Add one to accumulator if M and S are in opposite diagonals for both diagonals\n",
    "                (input[i + 1][j + 1] == \"M\" and input[i - 1][j - 1] == \"S\")\n",
    "                or (input[i + 1][j + 1] == \"S\" and input[i - 1][j - 1] == \"M\")\n",
    "            ) and (\n",
    "                (input[i + 1][j - 1] == \"M\" and input[i - 1][j + 1] == \"S\")\n",
    "                or (input[i + 1][j - 1] == \"S\" and input[i - 1][j + 1] == \"M\")\n",
    "            )\n",
    "\n",
    "ans"
   ]
  },
  {
   "cell_type": "markdown",
   "metadata": {},
   "source": [
    "### Day 5"
   ]
  },
  {
   "cell_type": "code",
   "execution_count": 19,
   "metadata": {},
   "outputs": [
    {
     "data": {
      "text/plain": [
       "([[96, 56], [68, 78], [68, 96], [52, 85], [52, 14]],\n",
       " [[49, 85, 73, 74, 96, 32, 76, 58, 95, 57, 13, 93, 14, 99, 56, 47, 75],\n",
       "  [74, 68, 64, 75, 78, 18, 41, 67, 15],\n",
       "  [83, 95, 85, 32, 58, 14, 76, 77, 74, 68, 47, 96, 49, 75, 88, 56, 29, 78, 18],\n",
       "  [91, 33, 55, 17, 39, 87, 52, 86, 35, 72, 94, 79, 12, 98, 93, 53, 83, 95, 85],\n",
       "  [12, 57, 93, 23, 53, 83, 95, 85, 58, 14, 99, 68, 64, 49, 75]])"
      ]
     },
     "execution_count": 19,
     "metadata": {},
     "output_type": "execute_result"
    }
   ],
   "source": [
    "file = open(\"day5rules.input\", \"r\")\n",
    "rules = [[*map(int, rule.split(\"|\"))] for rule in file.read().split()]\n",
    "\n",
    "file.close()\n",
    "\n",
    "file = open(\"day5queries.input\", \"r\")\n",
    "queries = [[*map(int, query.split(\",\"))] for query in file.read().split()]\n",
    "\n",
    "file.close()\n",
    "\n",
    "rules[:5], queries[:5]"
   ]
  },
  {
   "cell_type": "code",
   "execution_count": 20,
   "metadata": {},
   "outputs": [
    {
     "data": {
      "text/plain": [
       "5713"
      ]
     },
     "execution_count": 20,
     "metadata": {},
     "output_type": "execute_result"
    }
   ],
   "source": [
    "# Part 1\n",
    "\n",
    "from collections import defaultdict\n",
    "\n",
    "rule_map = defaultdict(set)\t\t\t\t\t\t\t# Creates an adjacency dict of rules\n",
    "for n1, n2 in rules:\n",
    "\trule_map[n1].add(n2)\n",
    "\n",
    "def process_query(query):\t\t\t\t\t\t\t# Makes sure there are no backwards edges in the ordering\n",
    "\tseen = set()\t\t\t\t\t\t\t\t\t\n",
    "\tfor num in query:\t\t\t\t\t\t\t\t# For every number in query,\n",
    "\t\tif (seen & rule_map[num]):\t\t\t\t\t# If there is an edge pointing behind (invalid order), return 0\n",
    "\t\t\treturn 0\n",
    "\t\tseen.add(num)\n",
    "\treturn query[len(query) // 2]\t\t\t\t\t# If all vertices are good, return the middle element\n",
    "\n",
    "sum([process_query(query) for query in queries])\t# Sums the middle elements of the valid queries"
   ]
  },
  {
   "cell_type": "code",
   "execution_count": 21,
   "metadata": {},
   "outputs": [
    {
     "data": {
      "text/plain": [
       "5180"
      ]
     },
     "execution_count": 21,
     "metadata": {},
     "output_type": "execute_result"
    }
   ],
   "source": [
    "# Part 2\n",
    "\n",
    "from graphlib import TopologicalSorter\n",
    "\n",
    "def process_query(query):\n",
    "    seen = set()\n",
    "    all = set(query)\n",
    "    for num in query:\n",
    "        if seen & rule_map[num]:                                                                # If there is an invalid\n",
    "            topsort = TopologicalSorter(dict([[n, list(rule_map[n] & all)] for n in query]))    # Sorts the elements\n",
    "            sorted = [*topsort.static_order()]\n",
    "\n",
    "            return sorted[len(sorted) // 2]                                                     # Return the middle element of the now-valid ordering\n",
    "        seen.add(num)\n",
    "    return 0                                                                                    # Valid orderings return 0\n",
    "\n",
    "sum([process_query(query) for query in queries])                                                # Sums the middle elements of fixed orderings"
   ]
  },
  {
   "cell_type": "markdown",
   "metadata": {},
   "source": [
    "### Day 6"
   ]
  },
  {
   "cell_type": "code",
   "execution_count": 1,
   "metadata": {},
   "outputs": [
    {
     "data": {
      "text/plain": [
       "['....#.....#......#...............................#...........#.......#.....#................#...#....#....#................#..#.#.',\n",
       " '...................................................................................#...........#............#.....................',\n",
       " '..........#..............#.................................................#..............#.......................................',\n",
       " '....................#...............#...#.....................#..............................#....#.............................#.',\n",
       " '...............................##...............................................................#............#....................',\n",
       " '................#...........#................#...............#....#.......#.............................#..........#...........#..',\n",
       " '...........................#................................................#.##..................#.............#........#........',\n",
       " '......#......#.....#..........#.......................#..........#.............#.....................#........#....#..............',\n",
       " '..................................................#..................................#....#.........#...........#..............#..',\n",
       " '..................................#..................#..........................................#.........#....................#..']"
      ]
     },
     "execution_count": 1,
     "metadata": {},
     "output_type": "execute_result"
    }
   ],
   "source": [
    "file = open(\"day6.input\", \"r\")\n",
    "input = file.read().split()\n",
    "\n",
    "file.close()\n",
    "input[:10]"
   ]
  },
  {
   "cell_type": "code",
   "execution_count": 2,
   "metadata": {},
   "outputs": [
    {
     "data": {
      "text/plain": [
       "4711"
      ]
     },
     "execution_count": 2,
     "metadata": {},
     "output_type": "execute_result"
    }
   ],
   "source": [
    "# Part 1\n",
    "\n",
    "grid = {(x, y): (-1 if v == \"#\" else 0) for (x, r) in enumerate(input) for (y, v) in enumerate(r)}\n",
    "dirs = [(-1, 0), (0, 1), (1, 0), (0, -1)]\n",
    "r, x, y = 0, 0, 0\n",
    "ans = 0\n",
    "\n",
    "for i, row in enumerate(input):\n",
    "\tif \"^\" in row:\n",
    "\t\tx, y = i, row.find(\"^\")\n",
    "\t\tgrid[x, y] = 0\n",
    "\t\tbreak\n",
    "\n",
    "while (x, y) in grid:\n",
    "    if not grid[x, y]:\n",
    "        grid[x, y] = 1\n",
    "        ans += 1\n",
    "\n",
    "    nextx, nexty = x + dirs[r][0], y + dirs[r][1]\n",
    "    while grid.get((nextx, nexty), 1) == -1:\n",
    "        r = (r + 1) % 4\n",
    "        nextx, nexty = x + dirs[r][0], y + dirs[r][1]\n",
    "    x, y = nextx, nexty\n",
    "\n",
    "ans"
   ]
  },
  {
   "cell_type": "code",
   "execution_count": 3,
   "metadata": {},
   "outputs": [
    {
     "data": {
      "text/plain": [
       "1562"
      ]
     },
     "execution_count": 3,
     "metadata": {},
     "output_type": "execute_result"
    }
   ],
   "source": [
    "# Part 2\n",
    "\n",
    "grid = {(x, y): (-1 if v == \"#\" else 0) for (x, r) in enumerate(input) for (y, v) in enumerate(r)}\n",
    "dirs = [(-1, 0), (0, 1), (1, 0), (0, -1)]\n",
    "p = [2, 3, 5, 7]\n",
    "r, x, y = 0, 0, 0\n",
    "ans = 0\n",
    "\n",
    "for i, row in enumerate(input):\n",
    "    if \"^\" in row:\n",
    "        x, y = i, row.find(\"^\")\n",
    "        grid[x, y] = 0\n",
    "        break\n",
    "\n",
    "while (x, y) in grid:\n",
    "    if not grid[x, y]:\n",
    "        grid[x, y] = 1\n",
    "\n",
    "    nextx, nexty = x + dirs[r][0], y + dirs[r][1]\n",
    "\n",
    "    while (nextx, nexty) in grid and grid[nextx, nexty] == -1:\n",
    "        r = (r + 1) % 4\n",
    "        nextx, nexty = x + dirs[r][0], y + dirs[r][1]\n",
    "\n",
    "    if (nextx, nexty) in grid and not grid[nextx, nexty]:\n",
    "        new_grid = dict(grid)\n",
    "        new_grid[nextx, nexty] = -1\n",
    "        x_e, y_e, r_e = x, y, r\n",
    "        while (x_e, y_e) in new_grid:\n",
    "            if not new_grid[x_e, y_e]:\n",
    "                new_grid[x_e, y_e] = p[r_e]\n",
    "            elif not (new_grid[x_e, y_e] % p[r_e]):\n",
    "                ans += 1\n",
    "                break\n",
    "\n",
    "            nextx_e, nexty_e = x_e + dirs[r_e][0], y_e + dirs[r_e][1]\n",
    "\n",
    "            while (nextx_e, nexty_e) in new_grid and new_grid[nextx_e, nexty_e] == -1:\n",
    "                r_e = (r_e + 1) % 4\n",
    "                nextx_e, nexty_e = x_e + dirs[r_e][0], y_e + dirs[r_e][1]\n",
    "\n",
    "            new_grid[x_e, y_e] *= p[r_e]\n",
    "            x_e, y_e = nextx_e, nexty_e\n",
    "\n",
    "    grid[x, y] *= p[r]\n",
    "    x, y = nextx, nexty\n",
    "\n",
    "ans"
   ]
  },
  {
   "cell_type": "markdown",
   "metadata": {},
   "source": [
    "### Day 7"
   ]
  },
  {
   "cell_type": "code",
   "execution_count": 4,
   "metadata": {},
   "outputs": [
    {
     "data": {
      "text/plain": [
       "[(237649047, [872, 71, 84, 3, 11, 1, 2, 8, 46]),\n",
       " (2201728328, [63, 5, 8, 511, 10, 2, 8, 99, 7]),\n",
       " (35784, [9, 1, 550, 162, 7]),\n",
       " (1520117759425, [8, 220, 7, 578, 79, 86, 28]),\n",
       " (14037417, [799, 2, 122, 8, 8, 9, 9]),\n",
       " (2089710273, [1, 2, 2, 2, 24, 7, 7, 21, 93, 27, 4]),\n",
       " (92191, [8, 1, 77, 763, 91]),\n",
       " (31902329903, [8, 1, 8, 39, 253, 76, 844, 61]),\n",
       " (20, [4, 7, 2, 4, 5]),\n",
       " (14504, [108, 7, 6, 20, 698, 6])]"
      ]
     },
     "execution_count": 4,
     "metadata": {},
     "output_type": "execute_result"
    }
   ],
   "source": [
    "file = open(\"day7.input\", \"r\")\n",
    "input = [(int(k), [*map(int, v.split())]) for (k, v) in [row.split(\": \") for row in file.read().split(\"\\n\")]]\n",
    "\n",
    "file.close()\n",
    "input[:10]"
   ]
  },
  {
   "cell_type": "code",
   "execution_count": 5,
   "metadata": {},
   "outputs": [
    {
     "data": {
      "text/plain": [
       "303766880536"
      ]
     },
     "execution_count": 5,
     "metadata": {},
     "output_type": "execute_result"
    }
   ],
   "source": [
    "# Part 1\n",
    "\n",
    "def makeable(target, nums):\n",
    "    if len(nums) < 2 or nums[0] > target:\n",
    "        return nums[0] == target\n",
    "\n",
    "    s, p = nums[0] + nums[1], nums[0] * nums[1]\n",
    "    return makeable(target, [s, *nums[2:]]) or makeable(target, [p, *nums[2:]])\n",
    "\n",
    "ans = sum([t if makeable(t, l) else 0 for t, l in input])\n",
    "ans"
   ]
  },
  {
   "cell_type": "code",
   "execution_count": 6,
   "metadata": {},
   "outputs": [
    {
     "data": {
      "text/plain": [
       "337041851384440"
      ]
     },
     "execution_count": 6,
     "metadata": {},
     "output_type": "execute_result"
    }
   ],
   "source": [
    "# Part 2\n",
    "\n",
    "def makeable(target, nums):\n",
    "    if len(nums) < 2 or nums[0] > target:\n",
    "        return nums[0] == target\n",
    "\n",
    "    s, p, c = nums[0] + nums[1], nums[0] * nums[1], int(str(nums[0]) + str(nums[1]))\n",
    "    return (\n",
    "        makeable(target, [s, *nums[2:]])\n",
    "        or makeable(target, [p, *nums[2:]])\n",
    "        or makeable(target, [c, *nums[2:]])\n",
    "    )\n",
    "\n",
    "ans = sum([t if makeable(t, l) else 0 for t, l in input])\n",
    "ans"
   ]
  },
  {
   "cell_type": "markdown",
   "metadata": {},
   "source": [
    "### Day 8"
   ]
  },
  {
   "cell_type": "code",
   "execution_count": null,
   "metadata": {},
   "outputs": [
    {
     "data": {
      "text/plain": [
       "['.E..........m..0N.........f.......................',\n",
       " '........N........P0...............................',\n",
       " '.......j..................................F.......',\n",
       " '........1j............P........................C..',\n",
       " '...........................3..K......f..........E.',\n",
       " '...........V...y...0.....................F........',\n",
       " '1.......j.....P....y.N.......................F....',\n",
       " '....................m...................C.........',\n",
       " '..L......P....p..................w.m..............',\n",
       " '............E......p..AU........8......f..........']"
      ]
     },
     "execution_count": 24,
     "metadata": {},
     "output_type": "execute_result"
    }
   ],
   "source": [
    "# Gets input as a list of row strings\n",
    "\n",
    "file = open(\"day8.input\", \"r\")\n",
    "input = file.read().split()\n",
    "\n",
    "file.close()\n",
    "input[:10]"
   ]
  },
  {
   "cell_type": "code",
   "execution_count": null,
   "metadata": {},
   "outputs": [
    {
     "data": {
      "text/plain": [
       "323"
      ]
     },
     "execution_count": 43,
     "metadata": {},
     "output_type": "execute_result"
    }
   ],
   "source": [
    "# Part 1\n",
    "\n",
    "from collections import defaultdict\n",
    "\n",
    "nodes = set()\n",
    "towers, grid = defaultdict(list), dict()\n",
    "\n",
    "\n",
    "for x, row in enumerate(input):\n",
    "    for y, s in enumerate(row):\n",
    "        grid[x, y] = 1 if s == \".\" else 0\n",
    "        if s != \".\":\n",
    "            towers[s].append((x, y))\n",
    "\n",
    "for l in towers.values():\n",
    "    for i in l:\n",
    "        for j in l:\n",
    "            if i != j:\n",
    "                x1, y1 = i\n",
    "                x2, y2 = j\n",
    "                dx, dy = x2 - x1, y2 - y1\n",
    "\n",
    "                pos1, pos2 = (x1 - dx, y1 - dy), (x2 + dx, y2 + dy)\n",
    "                if pos1 in grid:\n",
    "                    nodes.add(pos1)\n",
    "                if pos2 in grid:\n",
    "                    nodes.add(pos2)\n",
    "                \n",
    "ans = len(nodes)\n",
    "ans"
   ]
  },
  {
   "cell_type": "code",
   "execution_count": 44,
   "metadata": {},
   "outputs": [
    {
     "data": {
      "text/plain": [
       "1077"
      ]
     },
     "execution_count": 44,
     "metadata": {},
     "output_type": "execute_result"
    }
   ],
   "source": [
    "nodes = set()\n",
    "towers, grid = defaultdict(list), dict()\n",
    "\n",
    "for x, row in enumerate(input):\n",
    "    for y, s in enumerate(row):\n",
    "        grid[x, y] = 1 if s == \".\" else 0\n",
    "        if s != \".\":\n",
    "            towers[s].append((x, y))\n",
    "            nodes.add((x, y))\n",
    "\n",
    "for l in towers.values():\n",
    "    for i in l:\n",
    "        for j in l:\n",
    "            if i != j:\n",
    "                x1, y1 = i\n",
    "                x2, y2 = j\n",
    "                dx, dy = x2 - x1, y2 - y1\n",
    "\n",
    "                pos1, pos2 = (x1 - dx, y1 - dy), (x2 + dx, y2 + dy)\n",
    "                while pos1 in grid:\n",
    "                    nodes.add(pos1)\n",
    "                    pos1 = (pos1[0] - dx, pos1[1] - dy)\n",
    "                while pos2 in grid:\n",
    "                    nodes.add(pos2)\n",
    "                    pos2 = (pos2[0] + dx, pos2[1] + dy)\n",
    "\n",
    "ans = len(nodes)\n",
    "ans"
   ]
  },
  {
   "cell_type": "markdown",
   "metadata": {},
   "source": [
    "### Day 9"
   ]
  },
  {
   "cell_type": "code",
   "execution_count": 92,
   "metadata": {},
   "outputs": [
    {
     "data": {
      "text/plain": [
       "[[0, 0, 0, 0, 0, 0, 0, 0],\n",
       " [-1, -1, -1],\n",
       " [1, 1, 1, 1, 1, 1, 1, 1, 1],\n",
       " [-1, -1, -1, -1, -1],\n",
       " [2],\n",
       " [-1, -1, -1],\n",
       " [3, 3, 3],\n",
       " [-1, -1, -1],\n",
       " [4, 4, 4, 4, 4, 4, 4, 4, 4],\n",
       " [-1, -1, -1, -1, -1]]"
      ]
     },
     "execution_count": 92,
     "metadata": {},
     "output_type": "execute_result"
    }
   ],
   "source": [
    "file = open(\"day9.input\", \"r\")\n",
    "input = [([i // 2 if i % 2 == 0 else -1] * int(c)) for i, c in enumerate(file.read())]\n",
    "\n",
    "file.close()\n",
    "\n",
    "input[:10]"
   ]
  },
  {
   "cell_type": "code",
   "execution_count": 93,
   "metadata": {},
   "outputs": [
    {
     "data": {
      "text/plain": [
       "6200294120911"
      ]
     },
     "execution_count": 93,
     "metadata": {},
     "output_type": "execute_result"
    }
   ],
   "source": [
    "bits = [bit for space in input for bit in space]\n",
    "i, j = 0, len(bits) - 1\n",
    "ans = 0\n",
    "\n",
    "while bits[j] == -1:\n",
    "\tj -= 1\n",
    "\n",
    "while i <= j:\n",
    "\tif bits[i] == -1:\n",
    "\t\tans += i * bits[j]\n",
    "\t\tj -= 1\n",
    "\t\twhile bits[j] == -1:\n",
    "\t\t\tj -= 1\n",
    "\telse:\n",
    "\t\tans += i * bits[i]\n",
    "\ti += 1\n",
    "\n",
    "ans"
   ]
  },
  {
   "cell_type": "code",
   "execution_count": 97,
   "metadata": {},
   "outputs": [
    {
     "data": {
      "text/plain": [
       "6227018762750"
      ]
     },
     "execution_count": 97,
     "metadata": {},
     "output_type": "execute_result"
    }
   ],
   "source": [
    "from collections import defaultdict\n",
    "import heapq\n",
    "\n",
    "bits = [bit for space in input for bit in space]\n",
    "files, free = [], defaultdict(list)\n",
    "tot = 0\n",
    "out = len(bits) + 1\n",
    "\n",
    "for i, space in enumerate(input):\n",
    "\tsize = len(space)\n",
    "\tif i % 2 == 0:\n",
    "\t\tfiles.append((tot, size, i // 2))\n",
    "\telse:\n",
    "\t\tfree[size].append((tot, size))\n",
    "\ttot += size\n",
    "\n",
    "mins = [heapq.heappop(free[k]) if free[k] else (out, -1) for k in range(10)]\n",
    "\n",
    "def move(pos, b = bits, m = mins, f = free):\n",
    "    start, size, num = pos\n",
    "    move_to, free_size = min(m[size:])\n",
    "    if free_size > 0 and move_to < start:\n",
    "        b[start : start + size] = [0] * size\n",
    "        b[move_to : move_to + size] = [num] * size\n",
    "        m[free_size] = heapq.heappop(f[free_size]) if f[free_size] else (out, -1)\n",
    "\n",
    "        remaining = free_size - size\n",
    "        if remaining:\n",
    "            new_start = move_to + size\n",
    "            new_space = (new_start, remaining)\n",
    "\n",
    "            if new_start < m[remaining][0]:\n",
    "                heapq.heappush(f[remaining], m[remaining])\n",
    "                m[remaining] = new_space\n",
    "            else:\n",
    "                heapq.heappush(f[remaining], new_space)\n",
    "\n",
    "while files:\n",
    "    move(files.pop())\n",
    "\n",
    "ans = sum([i * b if b > 0 else 0 for i, b in enumerate(bits)])\n",
    "ans"
   ]
  },
  {
   "cell_type": "markdown",
   "metadata": {},
   "source": [
    "### Day 10"
   ]
  },
  {
   "cell_type": "code",
   "execution_count": 113,
   "metadata": {},
   "outputs": [
    {
     "data": {
      "text/plain": [
       "[((0, 0), 2),\n",
       " ((0, 1), 3),\n",
       " ((0, 2), 4),\n",
       " ((0, 3), 5),\n",
       " ((0, 4), 6),\n",
       " ((0, 5), 7),\n",
       " ((0, 6), 3),\n",
       " ((0, 7), 4),\n",
       " ((0, 8), 5),\n",
       " ((0, 9), 6)]"
      ]
     },
     "execution_count": 113,
     "metadata": {},
     "output_type": "execute_result"
    }
   ],
   "source": [
    "file = open(\"day10.input\", \"r\")\n",
    "input = { (i, j): int(num) for i, r in enumerate(file.read().split()) for j, num in enumerate(r) }\n",
    "\n",
    "file.close()\n",
    "\n",
    "[*input.items()][:10]"
   ]
  },
  {
   "cell_type": "code",
   "execution_count": 122,
   "metadata": {},
   "outputs": [
    {
     "data": {
      "text/plain": [
       "607"
      ]
     },
     "execution_count": 122,
     "metadata": {},
     "output_type": "execute_result"
    }
   ],
   "source": [
    "ans = 0\n",
    "\n",
    "def dfs(start, l, peaks):\n",
    "\tnum = input.get(start, -1)\n",
    "\tif num != l:\n",
    "\t\treturn\n",
    "\tif num == 9:\n",
    "\t\tpeaks.add(start)\n",
    "\t\treturn\n",
    "\ti, j = start\n",
    "\tdfs((i + 1, j), l + 1, peaks)\n",
    "\tdfs((i - 1, j), l + 1, peaks)\n",
    "\tdfs((i, j + 1), l + 1, peaks)\n",
    "\tdfs((i, j - 1), l + 1, peaks)\n",
    "\treturn\n",
    "\n",
    "for k, v in input.items():\n",
    "\tif not v:\n",
    "\t\tpeaks = set()\n",
    "\t\tdfs(k, 0, peaks)\n",
    "\t\tans += len(peaks)\n",
    "ans"
   ]
  },
  {
   "cell_type": "code",
   "execution_count": null,
   "metadata": {},
   "outputs": [
    {
     "data": {
      "text/plain": [
       "1384"
      ]
     },
     "execution_count": 117,
     "metadata": {},
     "output_type": "execute_result"
    }
   ],
   "source": [
    "ans = 0\n",
    "\n",
    "def dfs(start, l):\n",
    "    num = input.get(start, -1)\n",
    "    if num != l:\n",
    "        return 0\n",
    "    if num == 9:\n",
    "        return 1\n",
    "    i, j = start\n",
    "    return (\n",
    "        dfs((i + 1, j), l + 1)\n",
    "        + dfs((i - 1, j), l + 1)\n",
    "        + dfs((i, j + 1), l + 1)\n",
    "        + dfs((i, j - 1), l + 1)\n",
    "    )\n",
    "\n",
    "\n",
    "for k, v in input.items():\n",
    "    if not v:\n",
    "        ans += dfs(k, 0)\n",
    "ans"
   ]
  }
 ],
 "metadata": {
  "kernelspec": {
   "display_name": "Python 3",
   "language": "python",
   "name": "python3"
  },
  "language_info": {
   "codemirror_mode": {
    "name": "ipython",
    "version": 3
   },
   "file_extension": ".py",
   "mimetype": "text/x-python",
   "name": "python",
   "nbconvert_exporter": "python",
   "pygments_lexer": "ipython3",
   "version": "3.10.2"
  }
 },
 "nbformat": 4,
 "nbformat_minor": 2
}
